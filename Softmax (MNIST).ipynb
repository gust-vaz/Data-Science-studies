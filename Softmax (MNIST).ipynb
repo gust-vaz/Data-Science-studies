{
  "cells": [
    {
      "cell_type": "code",
      "execution_count": 2,
      "metadata": {
        "id": "6u4Qev-NdtEs"
      },
      "outputs": [],
      "source": [
        "import numpy as np\n",
        "import pandas as pd\n",
        "import matplotlib.pyplot as plt\n",
        "from sklearn import metrics\n",
        "from keras.datasets import mnist"
      ]
    },
    {
      "cell_type": "code",
      "execution_count": 3,
      "metadata": {
        "colab": {
          "base_uri": "https://localhost:8080/"
        },
        "id": "dyYdTPK-PmR8",
        "outputId": "de6a8e79-742b-446c-e740-d5d8400ef33f"
      },
      "outputs": [
        {
          "name": "stdout",
          "output_type": "stream",
          "text": [
            "(60000, 28, 28) (60000,)\n",
            "(10000, 28, 28) (10000,)\n"
          ]
        }
      ],
      "source": [
        "(X_train_all, y_train_all), (X_test_all, y_test_all) = mnist.load_data()\n",
        "\n",
        "print(X_train_all.shape, y_train_all.shape)\n",
        "print(X_test_all.shape, y_test_all.shape)"
      ]
    },
    {
      "cell_type": "code",
      "execution_count": 4,
      "metadata": {},
      "outputs": [
        {
          "data": {
            "image/png": "[encoded data removed]",
            "text/plain": [
              "<Figure size 900x600 with 9 Axes>"
            ]
          },
          "metadata": {},
          "output_type": "display_data"
        }
      ],
      "source": [
        "fig, ax = plt.subplots(3, 3, figsize = (9, 6))\n",
        "\n",
        "for i in range(9):\n",
        "    ax[i//3, i%3].imshow(X_train_all[i], cmap='gray')\n",
        "    ax[i//3, i%3].axis('off')\n",
        "    ax[i//3, i%3].set_title(\"Class: %d\"%y_train_all[i])\n",
        "    \n",
        "plt.show()"
      ]
    },
    {
      "cell_type": "code",
      "execution_count": null,
      "metadata": {
        "colab": {
          "base_uri": "https://localhost:8080/"
        },
        "id": "CIyp4aTDPm0y",
        "outputId": "2526bced-1830-4c1f-af77-1eec1a3fc963"
      },
      "outputs": [
        {
          "name": "stdout",
          "output_type": "stream",
          "text": [
            "(60000, 784)\n",
            "(10000, 784)\n"
          ]
        }
      ],
      "source": [
        "X_train_all = X_train_all.reshape(X_train_all.shape[0], X_train_all.shape[1] * X_train_all.shape[2])\n",
        "X_test_all = X_test_all.reshape(X_test_all.shape[0], X_test_all.shape[1] * X_test_all.shape[2])\n",
        "\n",
        "print(X_train_all.shape)\n",
        "print(X_test_all.shape)"
      ]
    },
    {
      "cell_type": "code",
      "execution_count": 28,
      "metadata": {
        "id": "6RXXSFTvRch0"
      },
      "outputs": [],
      "source": [
        "X_train_all = X_train_all/255\n",
        "X_test_all = X_test_all/255"
      ]
    },
    {
      "cell_type": "code",
      "execution_count": 29,
      "metadata": {
        "id": "cYgh5yKvRdEY"
      },
      "outputs": [],
      "source": [
        "y_train_all = pd.get_dummies(y_train_all).astype(int).to_numpy()\n",
        "y_test_all = pd.get_dummies(y_test_all).astype(int).to_numpy()"
      ]
    },
    {
      "attachments": {},
      "cell_type": "markdown",
      "metadata": {},
      "source": [
        "- $D =$ número de features\n",
        "- $K =$ número de classes\n",
        "- $N =$ número de linhas do dataset"
      ]
    },
    {
      "cell_type": "code",
      "execution_count": 30,
      "metadata": {
        "id": "Ps2pCQygdtEz"
      },
      "outputs": [],
      "source": [
        "def add_column_of_ones(X):\n",
        "    return np.hstack((np.ones((X.shape[0],1)), X))"
      ]
    },
    {
      "attachments": {},
      "cell_type": "markdown",
      "metadata": {},
      "source": [
        "Função softmax:\n",
        "$$\n",
        "H[k][i] = P(y^{(i)} = k | \\mathbf{x}^{(i)}; \\mathbf{w}) = \\frac{e^{ \\mathbf{w}^{(k) \\; T} \\mathbf{x}^{(i)}}}{\\sum_{j=1}^{K} e^{ \\mathbf{w}^{(j) \\; T} \\mathbf{x}^{(i)}}} = \\frac{e^{c} \\; e^{ (\\mathbf{w}^{(k) \\; T} \\mathbf{x}^{(i)} \\; - \\; c)}} {e^{c} \\; \\sum_{j=1}^{K} e^{ (\\mathbf{w}^{(j) \\; T} \\mathbf{x}^{(i)} \\; - \\; c)}} = \\frac{e^{ (\\mathbf{w}^{(k) \\; T} \\mathbf{x}^{(i)} \\; - \\; c)}} {\\sum_{j=1}^{K} e^{ (\\mathbf{w}^{(j) \\; T} \\mathbf{x}^{(i)} \\; - \\; c)}}\n",
        "$$"
      ]
    },
    {
      "cell_type": "code",
      "execution_count": 31,
      "metadata": {
        "id": "WWxDO34qOyYK"
      },
      "outputs": [],
      "source": [
        "def softmax(X, w):\n",
        "    '''\n",
        "    Arguments:\n",
        "    X = (NxD) numpy matrix, dataset de treino\n",
        "    w = (KxD) numpy matrix, pesos\n",
        "    \n",
        "    Returns:\n",
        "    H = (KxN) numpy matrix, cada coluna representa a probabilidade da i-esima linha do X ser da classe k\n",
        "    '''\n",
        "    n = X.shape[0]\n",
        "    k = w.shape[0]\n",
        "    H = np.zeros((k, n))\n",
        "\n",
        "    for i in range(n):\n",
        "        #obtenção da constante\n",
        "        c_vector = np.zeros(k)\n",
        "        for j in range(k):\n",
        "            c_vector[j] = (np.dot(X[i], w[j]))\n",
        "            c = np.amax(c_vector)\n",
        "\n",
        "        #cálculo da probabilidade H[k][i] \n",
        "        denominator = 0\n",
        "        for j in range(k):\n",
        "            expo = np.dot(X[i], w[j]) - c\n",
        "            denominator += np.exp(expo)\n",
        "            H[j][i] = np.exp(expo)\n",
        "        H[:, i] = H[:, i] / denominator\n",
        "    \n",
        "    return H"
      ]
    },
    {
      "attachments": {},
      "cell_type": "markdown",
      "metadata": {},
      "source": [
        "Função de custo:\n",
        "$$\n",
        "J(\\mathbf{w}) = -\\frac{1}{N} \\left[ \\sum_{i=1}^{N} \\sum_{k=1}^{K} \\{ y^{(i)} == k\\} \\ln (H[k][i])                   \\right]\n",
        "$$"
      ]
    },
    {
      "cell_type": "code",
      "execution_count": 32,
      "metadata": {
        "id": "w_jACNbsO1cq"
      },
      "outputs": [],
      "source": [
        "def cross_entropy_loss(w, X, y):\n",
        "    '''\n",
        "    Argumentos:\n",
        "    X = (NxD) numpy matrix, dataset de treino\n",
        "    y = (NxK) numpy matrix, output do dataset\n",
        "    w = (KxD) numpy matrix, pesos\n",
        "    \n",
        "    Retorno:\n",
        "    loss = (int), valor da função de custo\n",
        "    '''\n",
        "    H = softmax(X, w)\n",
        "    n = X.shape[0]\n",
        "    k = w.shape[0]\n",
        "    loss = 0\n",
        "    \n",
        "    for i in range(n):\n",
        "        for j in range(k):\n",
        "            loss += (y[i][j] * H[j][i])\n",
        "    loss = -loss / n\n",
        "\n",
        "    return loss"
      ]
    },
    {
      "attachments": {},
      "cell_type": "markdown",
      "metadata": {},
      "source": [
        "Gradiente da função de custo:\n",
        "$$\n",
        "\\nabla_{\\mathbf{w}^{(k)}} \n",
        "J(\\mathbf{w}) = \n",
        "-\\sum_{i=1}^{N} \\left[ \n",
        "\\mathbf{x}^{(i)}  \\left( \\{ y^{(i)} == k\\} - H[k][i] \\right)\n",
        "\\right]\n",
        "$$"
      ]
    },
    {
      "cell_type": "code",
      "execution_count": 33,
      "metadata": {
        "id": "0jLI5deXO3gp"
      },
      "outputs": [],
      "source": [
        "def cross_entropy_gradient(X, y, w):\n",
        "    '''\n",
        "    Argumentos:\n",
        "    X = (NxD) numpy matrix, dataset de treino\n",
        "    y = (NxK) numpy matrix, output do dataset\n",
        "    w = (KxD) numpy matrix, pesos\n",
        "    \n",
        "    Retorno:\n",
        "    gradient = (KxD), gradiente de w para todas as k classes\n",
        "    '''\n",
        "    H = softmax(X, w)\n",
        "\n",
        "    return -((y.T - H) @ X)"
      ]
    },
    {
      "cell_type": "code",
      "execution_count": 34,
      "metadata": {
        "id": "dV5N7JRQO47H"
      },
      "outputs": [],
      "source": [
        "def train_softmax(X, y, w = None, learning_rate = 0.1, num_iterations = 1000, return_history = False):\n",
        "    '''\n",
        "    Argumentos:\n",
        "    X = (NxD) numpy matrix, dataset de treino\n",
        "    y = (NxK) numpy matrix, output do dataset\n",
        "    w = (KxD) numpy matrix, pesos\n",
        "    \n",
        "    Retorno:\n",
        "    w = (KxD) numpy matrix, 'pesos treinados' \n",
        "    '''\n",
        "    X = add_column_of_ones(X)\n",
        "    cost_history = []\n",
        "\n",
        "    if w == None:\n",
        "        w = np.random.normal(loc = 0, scale = 1, size = (y.shape[1], X.shape[1]))\n",
        "\n",
        "    #Batch gradient descent\n",
        "    for i in range(num_iterations):\n",
        "        print('epoca = ', i)\n",
        "        cost_history.append(cross_entropy_loss(w, X, y))\n",
        "        \n",
        "        gradient = cross_entropy_gradient(X, y, w)\n",
        "        w = w - learning_rate * gradient\n",
        "\n",
        "    cost_history.append(cross_entropy_loss(w, X, y))\n",
        "    if return_history == True:\n",
        "        return w, cost_history\n",
        "    else:\n",
        "        return w"
      ]
    },
    {
      "cell_type": "code",
      "execution_count": 35,
      "metadata": {
        "id": "VbG8pq_-dtE2"
      },
      "outputs": [],
      "source": [
        "def to_classlabel(z):\n",
        "    return np.argmax(z)"
      ]
    },
    {
      "cell_type": "code",
      "execution_count": 36,
      "metadata": {
        "colab": {
          "base_uri": "https://localhost:8080/",
          "height": 1000
        },
        "id": "lGBKipaQO6i4",
        "outputId": "eb1956a5-9b34-4c8d-f6a9-22c1e4856748"
      },
      "outputs": [
        {
          "name": "stdout",
          "output_type": "stream",
          "text": [
            "epoca =  0\n",
            "epoca =  1\n",
            "epoca =  2\n",
            "epoca =  3\n",
            "epoca =  4\n",
            "epoca =  5\n",
            "epoca =  6\n",
            "epoca =  7\n",
            "epoca =  8\n",
            "epoca =  9\n",
            "epoca =  10\n",
            "epoca =  11\n",
            "epoca =  12\n",
            "epoca =  13\n",
            "epoca =  14\n",
            "epoca =  15\n",
            "epoca =  16\n",
            "epoca =  17\n",
            "epoca =  18\n",
            "epoca =  19\n",
            "epoca =  20\n",
            "epoca =  21\n",
            "epoca =  22\n",
            "epoca =  23\n",
            "epoca =  24\n",
            "epoca =  25\n",
            "epoca =  26\n",
            "epoca =  27\n",
            "epoca =  28\n",
            "epoca =  29\n",
            "epoca =  30\n",
            "epoca =  31\n",
            "epoca =  32\n",
            "epoca =  33\n",
            "epoca =  34\n",
            "epoca =  35\n",
            "epoca =  36\n",
            "epoca =  37\n",
            "epoca =  38\n",
            "epoca =  39\n",
            "epoca =  40\n",
            "epoca =  41\n",
            "epoca =  42\n",
            "epoca =  43\n",
            "epoca =  44\n",
            "epoca =  45\n",
            "epoca =  46\n",
            "epoca =  47\n",
            "epoca =  48\n",
            "epoca =  49\n",
            "epoca =  50\n",
            "epoca =  51\n",
            "epoca =  52\n",
            "epoca =  53\n",
            "epoca =  54\n",
            "epoca =  55\n",
            "epoca =  56\n",
            "epoca =  57\n",
            "epoca =  58\n",
            "epoca =  59\n",
            "epoca =  60\n",
            "epoca =  61\n",
            "epoca =  62\n",
            "epoca =  63\n",
            "epoca =  64\n",
            "epoca =  65\n",
            "epoca =  66\n",
            "epoca =  67\n",
            "epoca =  68\n",
            "epoca =  69\n",
            "epoca =  70\n",
            "epoca =  71\n",
            "epoca =  72\n",
            "epoca =  73\n",
            "epoca =  74\n",
            "epoca =  75\n",
            "epoca =  76\n",
            "epoca =  77\n",
            "epoca =  78\n",
            "epoca =  79\n",
            "epoca =  80\n",
            "epoca =  81\n",
            "epoca =  82\n",
            "epoca =  83\n",
            "epoca =  84\n",
            "epoca =  85\n",
            "epoca =  86\n",
            "epoca =  87\n",
            "epoca =  88\n",
            "epoca =  89\n",
            "epoca =  90\n",
            "epoca =  91\n",
            "epoca =  92\n",
            "epoca =  93\n",
            "epoca =  94\n",
            "epoca =  95\n",
            "epoca =  96\n",
            "epoca =  97\n",
            "epoca =  98\n",
            "epoca =  99\n",
            "\n",
            "\u001b[94mFinal loss:\n",
            "\u001b[0m -0.9108273966725959\n"
          ]
        },
        {
          "data": {
            "image/png": "[encoded data removed]",
            "text/plain": [
              "<Figure size 1200x800 with 1 Axes>"
            ]
          },
          "metadata": {},
          "output_type": "display_data"
        }
      ],
      "source": [
        "w_soft, loss = train_softmax(X_train_all, y_train_all, num_iterations=100 ,learning_rate=0.1, return_history=True)\n",
        "print(\"\\n\\x1b[94mFinal loss:\\n\\x1b[0m\", loss[-1])\n",
        "\n",
        "plt.figure(figsize = (12, 8))\n",
        "plt.plot(loss)\n",
        "plt.xlabel('Iteration #')\n",
        "plt.ylabel('Cross Entropy Loss')\n",
        "plt.show()"
      ]
    },
    {
      "cell_type": "code",
      "execution_count": 37,
      "metadata": {
        "colab": {
          "base_uri": "https://localhost:8080/"
        },
        "id": "fqvahZsnOuMK",
        "outputId": "dba93855-5305-4fb0-c115-a203dc690ca7"
      },
      "outputs": [
        {
          "name": "stdout",
          "output_type": "stream",
          "text": [
            "\u001b[93mSum of columns of the predict probabilities\u001b[0m\n",
            " [1. 1. 1. ... 1. 1. 1.]\n",
            "10000.0\n"
          ]
        }
      ],
      "source": [
        "X_test2 = add_column_of_ones(X_test_all)\n",
        "y_pred = softmax(X_test2, w_soft)\n",
        "\n",
        "print('\\x1b[93mSum of columns of the predict probabilities\\x1b[0m\\n', y_pred.sum(axis=0))\n",
        "print(y_pred.sum(axis=0).sum(axis=0))"
      ]
    },
    {
      "cell_type": "code",
      "execution_count": 38,
      "metadata": {
        "colab": {
          "base_uri": "https://localhost:8080/"
        },
        "id": "P5C5377eOuwP",
        "outputId": "db871e69-58a6-45c8-9b4b-d6aed09b17b1"
      },
      "outputs": [
        {
          "data": {
            "text/plain": [
              "(10000, 10)"
            ]
          },
          "execution_count": 38,
          "metadata": {},
          "output_type": "execute_result"
        }
      ],
      "source": [
        "y_pred2 = y_pred.T\n",
        "y_pred2.shape"
      ]
    },
    {
      "cell_type": "code",
      "execution_count": 39,
      "metadata": {
        "id": "jOhvrJ3hRjKW"
      },
      "outputs": [],
      "source": [
        "y_pred3 = np.zeros(y_pred2.shape[0])\n",
        "y_test2 = np.zeros(y_test_all.shape[0])\n",
        "for i in range(y_pred2.shape[0]):\n",
        "    y_pred3[i] = to_classlabel(y_pred2[i])\n",
        "    y_test2[i] = to_classlabel(y_test_all[i])"
      ]
    },
    {
      "cell_type": "code",
      "execution_count": 40,
      "metadata": {
        "colab": {
          "base_uri": "https://localhost:8080/"
        },
        "id": "IHm68awCRjZG",
        "outputId": "67f7ab1a-825f-470a-85e4-a9e7048a0ba8"
      },
      "outputs": [
        {
          "name": "stdout",
          "output_type": "stream",
          "text": [
            "\u001b[94mReal\u001b[0m\n",
            "'0':    980\n",
            "'1':    1135\n",
            "'2':    1032\n",
            "'3':    1010\n",
            "'4':    982\n",
            "'5':    892\n",
            "'6':    958\n",
            "'7':    1028\n",
            "'8':    974\n",
            "'9':    1009\n",
            "\n",
            "\u001b[95mSoftmax\u001b[0m\n",
            "'0':    1005\n",
            "'1':    1133\n",
            "'2':    1006\n",
            "'3':    1025\n",
            "'4':    1001\n",
            "'5':    851\n",
            "'6':    950\n",
            "'7':    1032\n",
            "'8':    1032\n",
            "'9':    965\n",
            "\n",
            "\u001b[92mAcuraccy: \u001b[0m 91.27\n"
          ]
        }
      ],
      "source": [
        "print('\\x1b[94mReal\\x1b[0m')\n",
        "print(\"'0':   \", np.count_nonzero(y_test2 == 0))\n",
        "print(\"'1':   \", np.count_nonzero(y_test2 == 1))\n",
        "print(\"'2':   \", np.count_nonzero(y_test2 == 2))\n",
        "print(\"'3':   \", np.count_nonzero(y_test2 == 3))\n",
        "print(\"'4':   \", np.count_nonzero(y_test2 == 4))\n",
        "print(\"'5':   \", np.count_nonzero(y_test2 == 5))\n",
        "print(\"'6':   \", np.count_nonzero(y_test2 == 6))\n",
        "print(\"'7':   \", np.count_nonzero(y_test2 == 7))\n",
        "print(\"'8':   \", np.count_nonzero(y_test2 == 8))\n",
        "print(\"'9':   \", np.count_nonzero(y_test2 == 9))\n",
        "\n",
        "print('\\n\\x1b[95mSoftmax\\x1b[0m')\n",
        "print(\"'0':   \", np.count_nonzero(y_pred3 == 0))\n",
        "print(\"'1':   \", np.count_nonzero(y_pred3 == 1))\n",
        "print(\"'2':   \", np.count_nonzero(y_pred3 == 2))\n",
        "print(\"'3':   \", np.count_nonzero(y_pred3 == 3))\n",
        "print(\"'4':   \", np.count_nonzero(y_pred3 == 4))\n",
        "print(\"'5':   \", np.count_nonzero(y_pred3 == 5))\n",
        "print(\"'6':   \", np.count_nonzero(y_pred3 == 6))\n",
        "print(\"'7':   \", np.count_nonzero(y_pred3 == 7))\n",
        "print(\"'8':   \", np.count_nonzero(y_pred3 == 8))\n",
        "print(\"'9':   \", np.count_nonzero(y_pred3 == 9))\n",
        "\n",
        "print('\\n\\x1b[92mAcuraccy: \\x1b[0m', round(metrics.accuracy_score(y_test2, y_pred3)*100, 2))"
      ]
    }
  ],
  "metadata": {
    "colab": {
      "provenance": []
    },
    "kernelspec": {
      "display_name": "Python 3",
      "language": "python",
      "name": "python3"
    },
    "language_info": {
      "codemirror_mode": {
        "name": "ipython",
        "version": 3
      },
      "file_extension": ".py",
      "mimetype": "text/x-python",
      "name": "python",
      "nbconvert_exporter": "python",
      "pygments_lexer": "ipython3",
      "version": "3.10.11"
    },
    "orig_nbformat": 4
  },
  "nbformat": 4,
  "nbformat_minor": 0
}
